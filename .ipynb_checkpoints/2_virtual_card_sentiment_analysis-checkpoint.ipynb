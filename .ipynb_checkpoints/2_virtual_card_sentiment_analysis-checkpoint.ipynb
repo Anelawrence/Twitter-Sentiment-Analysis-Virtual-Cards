{
 "cells": [
  {
   "cell_type": "code",
   "execution_count": 1,
   "id": "b705e6ea-a9b4-47d5-b5f4-95f95acc7d95",
   "metadata": {},
   "outputs": [],
   "source": [
    "# Import basic libries for analysis\n",
    "import pandas as pd\n",
    "import numpy as np\n",
    "import matplotlib.pyplot as plt\n",
    "import seaborn as sns"
   ]
  },
  {
   "cell_type": "code",
   "execution_count": 2,
   "id": "61b8526d-6c24-42d1-9927-49ed28e11065",
   "metadata": {},
   "outputs": [
    {
     "name": "stderr",
     "output_type": "stream",
     "text": [
      "[nltk_data] Downloading package stopwords to\n",
      "[nltk_data]     /home/anelawrence/nltk_data...\n",
      "[nltk_data]   Package stopwords is already up-to-date!\n"
     ]
    }
   ],
   "source": [
    "# Import More libries/modules\n",
    "import re\n",
    "from transformers import AutoTokenizer, AutoModelForSequenceClassification\n",
    "import torch\n",
    "from nltk.tokenize import WordPunctTokenizer\n",
    "from nltk.corpus import stopwords   \n",
    "from datetime import datetime\n",
    "import glob                     \n",
    "import os\n",
    "import nltk\n",
    "nltk.download('stopwords')\n",
    "from nltk.tokenize import word_tokenize\n",
    "from wordcloud import WordCloud"
   ]
  },
  {
   "cell_type": "code",
   "execution_count": 10,
   "id": "dcf11724-2677-45b1-8a7e-e8dc42f9778f",
   "metadata": {},
   "outputs": [],
   "source": [
    "# Get a list of all json files in a folder\n",
    "file_list = glob.glob(\"/home/anelawrence/cardtonic_data/virtual_cards/*.json\")\n",
    "\n",
    "# Read each file and store in a list\n",
    "dfs = [pd.read_json(file) for file in file_list]\n",
    "\n",
    "# Concatenate all DataFrames into one\n",
    "combine_df = pd.concat(dfs, ignore_index=True)"
   ]
  },
  {
   "cell_type": "code",
   "execution_count": 11,
   "id": "08b25293-ce08-481e-8259-adda9b529304",
   "metadata": {},
   "outputs": [
    {
     "data": {
      "text/plain": [
       "(33028, 32)"
      ]
     },
     "execution_count": 11,
     "metadata": {},
     "output_type": "execute_result"
    }
   ],
   "source": [
    "combine_df.shape"
   ]
  },
  {
   "cell_type": "code",
   "execution_count": 15,
   "id": "5ed7fc06-c22f-4165-b82c-2a396cf73e43",
   "metadata": {},
   "outputs": [
    {
     "data": {
      "text/plain": [
       "0"
      ]
     },
     "execution_count": 15,
     "metadata": {},
     "output_type": "execute_result"
    }
   ],
   "source": [
    "df = combine_df.dropna(subset=['full_text'])\n",
    "df['full_text'].isnull().sum()"
   ]
  },
  {
   "cell_type": "code",
   "execution_count": 19,
   "id": "f5420f68-7135-4966-9055-a60d2d7c16ba",
   "metadata": {},
   "outputs": [
    {
     "name": "stderr",
     "output_type": "stream",
     "text": [
      "/tmp/ipykernel_580602/279550793.py:2: SettingWithCopyWarning: \n",
      "A value is trying to be set on a copy of a slice from a DataFrame\n",
      "\n",
      "See the caveats in the documentation: https://pandas.pydata.org/pandas-docs/stable/user_guide/indexing.html#returning-a-view-versus-a-copy\n",
      "  df.drop_duplicates(subset=['full_text'], inplace=True)\n"
     ]
    },
    {
     "data": {
      "text/plain": [
       "0"
      ]
     },
     "execution_count": 19,
     "metadata": {},
     "output_type": "execute_result"
    }
   ],
   "source": [
    "# Drop duplicate tweets\n",
    "df.drop_duplicates(subset=['full_text'], inplace=True)\n",
    "\n",
    "df['full_text'].duplicated().sum()"
   ]
  },
  {
   "cell_type": "code",
   "execution_count": 22,
   "id": "dec2ad58-ff56-4192-832d-f7cb7173907c",
   "metadata": {},
   "outputs": [
    {
     "data": {
      "text/plain": [
       "(21906, 32)"
      ]
     },
     "execution_count": 22,
     "metadata": {},
     "output_type": "execute_result"
    }
   ],
   "source": [
    "df.shape"
   ]
  },
  {
   "cell_type": "code",
   "execution_count": 23,
   "id": "48331aaa-d419-49c5-9215-7fe905f0ff52",
   "metadata": {},
   "outputs": [],
   "source": [
    "#df.to_csv('/home/anelawrence/cardtonic_data/virtual_cards/raw_virtual_card_data.csv', index=False)"
   ]
  },
  {
   "cell_type": "code",
   "execution_count": 24,
   "id": "29152bc0-8d6d-4a7d-8d15-5312adc48298",
   "metadata": {},
   "outputs": [],
   "source": [
    "raw_df = pd.read_csv('/home/anelawrence/cardtonic_data/virtual_cards/raw_virtual_card_data.csv')"
   ]
  },
  {
   "cell_type": "code",
   "execution_count": 38,
   "id": "87f84b79-0cbf-4330-bc7a-06be0bbe8952",
   "metadata": {},
   "outputs": [
    {
     "data": {
      "text/plain": [
       "False"
      ]
     },
     "execution_count": 38,
     "metadata": {},
     "output_type": "execute_result"
    }
   ],
   "source": [
    "raw_df.tail()\n",
    "raw_df['created_at'].isnull().any()"
   ]
  },
  {
   "cell_type": "code",
   "execution_count": 39,
   "id": "ed8092d3-420b-4962-9c74-5171506dbf7a",
   "metadata": {},
   "outputs": [
    {
     "name": "stdout",
     "output_type": "stream",
     "text": [
      "Removed /home/anelawrence/cardtonic_data/virtual_cards/new_dataset_twitter_3.json\n",
      "Removed /home/anelawrence/cardtonic_data/virtual_cards/new_dataset_twitter.json\n",
      "Removed /home/anelawrence/cardtonic_data/virtual_cards/new_dataset_twitter_2.json\n"
     ]
    }
   ],
   "source": [
    "# Define the pattern matching your CSV files \n",
    "pattern = \"/home/anelawrence/cardtonic_data/virtual_cards/new_dataset_twitter*.json\"\n",
    "\n",
    "# Get a list of all files matching the pattern\n",
    "files = glob.glob(pattern)\n",
    "\n",
    "# Loop through the list and remove each file\n",
    "for file in files:\n",
    "    os.remove(file)\n",
    "    print(f\"Removed {file}\")"
   ]
  },
  {
   "cell_type": "code",
   "execution_count": 32,
   "id": "11639452-8ecd-4a3e-803f-384313cf62f8",
   "metadata": {},
   "outputs": [],
   "source": [
    "rename_map = {\n",
    "    'full_text': 'tweet',\n",
    "    'created_at': 'date',\n",
    "}\n",
    "\n",
    "df = df.rename(columns=rename_map)"
   ]
  },
  {
   "cell_type": "code",
   "execution_count": 33,
   "id": "e5ec7e54-99a4-4061-961d-955f32f3459c",
   "metadata": {},
   "outputs": [
    {
     "data": {
      "text/plain": [
       "Index(['bookmark_count', 'bookmarked', 'conversation_id_str', 'date',\n",
       "       'display_text_range', 'entities', 'favorite_count', 'favorited',\n",
       "       'tweet', 'in_reply_to_screen_name', 'in_reply_to_status_id_str',\n",
       "       'in_reply_to_user_id_str', 'is_quote_status', 'lang', 'quote_count',\n",
       "       'reply_count', 'retweet_count', 'retweeted', 'user_id_str', 'author',\n",
       "       'id', 'url', 'twitterUrl', 'searchTerms', 'extended_entities',\n",
       "       'possibly_sensitive', 'possibly_sensitive_editable',\n",
       "       'conversation_control', 'place', 'quoted_status_id_str',\n",
       "       'composer_source', 'coordinates'],\n",
       "      dtype='object')"
      ]
     },
     "execution_count": 33,
     "metadata": {},
     "output_type": "execute_result"
    }
   ],
   "source": [
    "df.columns"
   ]
  },
  {
   "cell_type": "code",
   "execution_count": 44,
   "id": "6dab6da9-c1bf-4c09-a5e2-5296259a7903",
   "metadata": {},
   "outputs": [
    {
     "data": {
      "text/plain": [
       "0"
      ]
     },
     "execution_count": 44,
     "metadata": {},
     "output_type": "execute_result"
    }
   ],
   "source": [
    "df['date'].isnull().sum()\n",
    "#df['tweet'].isnull().sum()"
   ]
  },
  {
   "cell_type": "code",
   "execution_count": 40,
   "id": "c40c1994-dc0b-46db-8e68-075f1e443433",
   "metadata": {},
   "outputs": [
    {
     "data": {
      "text/html": [
       "<div>\n",
       "<style scoped>\n",
       "    .dataframe tbody tr th:only-of-type {\n",
       "        vertical-align: middle;\n",
       "    }\n",
       "\n",
       "    .dataframe tbody tr th {\n",
       "        vertical-align: top;\n",
       "    }\n",
       "\n",
       "    .dataframe thead th {\n",
       "        text-align: right;\n",
       "    }\n",
       "</style>\n",
       "<table border=\"1\" class=\"dataframe\">\n",
       "  <thead>\n",
       "    <tr style=\"text-align: right;\">\n",
       "      <th></th>\n",
       "      <th>bookmark_count</th>\n",
       "      <th>bookmarked</th>\n",
       "      <th>conversation_id_str</th>\n",
       "      <th>date</th>\n",
       "      <th>display_text_range</th>\n",
       "      <th>entities</th>\n",
       "      <th>favorite_count</th>\n",
       "      <th>favorited</th>\n",
       "      <th>tweet</th>\n",
       "      <th>in_reply_to_screen_name</th>\n",
       "      <th>...</th>\n",
       "      <th>twitterUrl</th>\n",
       "      <th>searchTerms</th>\n",
       "      <th>extended_entities</th>\n",
       "      <th>possibly_sensitive</th>\n",
       "      <th>possibly_sensitive_editable</th>\n",
       "      <th>conversation_control</th>\n",
       "      <th>place</th>\n",
       "      <th>quoted_status_id_str</th>\n",
       "      <th>composer_source</th>\n",
       "      <th>coordinates</th>\n",
       "    </tr>\n",
       "  </thead>\n",
       "  <tbody>\n",
       "    <tr>\n",
       "      <th>0</th>\n",
       "      <td>0.0</td>\n",
       "      <td>0.0</td>\n",
       "      <td>1.851117e+18</td>\n",
       "      <td>2025-03-03 23:44:35+00:00</td>\n",
       "      <td>[10, 107]</td>\n",
       "      <td>{'hashtags': [], 'symbols': [], 'timestamps': ...</td>\n",
       "      <td>0.0</td>\n",
       "      <td>0.0</td>\n",
       "      <td>@joerogan Follow me for a chance to win a $25 ...</td>\n",
       "      <td>joerogan</td>\n",
       "      <td>...</td>\n",
       "      <td>https://twitter.com/Duke18fan/status/185111718...</td>\n",
       "      <td>dollar card since:2025-01-01 until:2025-03-04 ...</td>\n",
       "      <td>NaN</td>\n",
       "      <td>NaN</td>\n",
       "      <td>NaN</td>\n",
       "      <td>NaN</td>\n",
       "      <td>NaN</td>\n",
       "      <td>NaN</td>\n",
       "      <td>NaN</td>\n",
       "      <td>NaN</td>\n",
       "    </tr>\n",
       "    <tr>\n",
       "      <th>1</th>\n",
       "      <td>13.0</td>\n",
       "      <td>0.0</td>\n",
       "      <td>1.896604e+18</td>\n",
       "      <td>2025-03-03 21:39:31+00:00</td>\n",
       "      <td>[0, 204]</td>\n",
       "      <td>{'hashtags': [], 'symbols': [], 'timestamps': ...</td>\n",
       "      <td>257.0</td>\n",
       "      <td>0.0</td>\n",
       "      <td>UPDATE: My buddy just got a card in the mail f...</td>\n",
       "      <td>CElguea</td>\n",
       "      <td>...</td>\n",
       "      <td>https://twitter.com/CElguea/status/18966043256...</td>\n",
       "      <td>dollar card since:2025-01-01 until:2025-03-04 ...</td>\n",
       "      <td>{'media': [{'display_url': 'pic.x.com/5M9Q1sf7...</td>\n",
       "      <td>0.0</td>\n",
       "      <td>1.0</td>\n",
       "      <td>NaN</td>\n",
       "      <td>NaN</td>\n",
       "      <td>NaN</td>\n",
       "      <td>NaN</td>\n",
       "      <td>NaN</td>\n",
       "    </tr>\n",
       "    <tr>\n",
       "      <th>2</th>\n",
       "      <td>0.0</td>\n",
       "      <td>0.0</td>\n",
       "      <td>1.896608e+18</td>\n",
       "      <td>2025-03-03 22:15:19+00:00</td>\n",
       "      <td>[14, 198]</td>\n",
       "      <td>{'hashtags': [], 'symbols': [], 'timestamps': ...</td>\n",
       "      <td>1.0</td>\n",
       "      <td>0.0</td>\n",
       "      <td>@AuntSassyAss Deposit it so I don’t have to se...</td>\n",
       "      <td>AuntSassyAss</td>\n",
       "      <td>...</td>\n",
       "      <td>https://twitter.com/MrAuDaCity2U/status/189660...</td>\n",
       "      <td>dollar card since:2025-01-01 until:2025-03-04 ...</td>\n",
       "      <td>NaN</td>\n",
       "      <td>NaN</td>\n",
       "      <td>NaN</td>\n",
       "      <td>NaN</td>\n",
       "      <td>NaN</td>\n",
       "      <td>NaN</td>\n",
       "      <td>NaN</td>\n",
       "      <td>NaN</td>\n",
       "    </tr>\n",
       "    <tr>\n",
       "      <th>3</th>\n",
       "      <td>0.0</td>\n",
       "      <td>0.0</td>\n",
       "      <td>1.896620e+18</td>\n",
       "      <td>2025-03-03 21:47:38+00:00</td>\n",
       "      <td>[17, 79]</td>\n",
       "      <td>{'hashtags': [], 'symbols': [], 'timestamps': ...</td>\n",
       "      <td>0.0</td>\n",
       "      <td>0.0</td>\n",
       "      <td>@TheRichFromCali He buy the 5 million dollar g...</td>\n",
       "      <td>TheRichFromCali</td>\n",
       "      <td>...</td>\n",
       "      <td>https://twitter.com/theTaooftheDao/status/1896...</td>\n",
       "      <td>dollar card since:2025-01-01 until:2025-03-04 ...</td>\n",
       "      <td>NaN</td>\n",
       "      <td>NaN</td>\n",
       "      <td>NaN</td>\n",
       "      <td>NaN</td>\n",
       "      <td>NaN</td>\n",
       "      <td>NaN</td>\n",
       "      <td>NaN</td>\n",
       "      <td>NaN</td>\n",
       "    </tr>\n",
       "    <tr>\n",
       "      <th>4</th>\n",
       "      <td>0.0</td>\n",
       "      <td>0.0</td>\n",
       "      <td>1.896637e+18</td>\n",
       "      <td>2025-03-03 22:17:21+00:00</td>\n",
       "      <td>[16, 96]</td>\n",
       "      <td>{'hashtags': [], 'symbols': [], 'timestamps': ...</td>\n",
       "      <td>0.0</td>\n",
       "      <td>0.0</td>\n",
       "      <td>@JustnThePhotog Simping to Eric Trump while ru...</td>\n",
       "      <td>JustnThePhotog</td>\n",
       "      <td>...</td>\n",
       "      <td>https://twitter.com/DanielxKilleen/status/1896...</td>\n",
       "      <td>dollar card since:2025-01-01 until:2025-03-04 ...</td>\n",
       "      <td>NaN</td>\n",
       "      <td>NaN</td>\n",
       "      <td>NaN</td>\n",
       "      <td>NaN</td>\n",
       "      <td>NaN</td>\n",
       "      <td>NaN</td>\n",
       "      <td>NaN</td>\n",
       "      <td>NaN</td>\n",
       "    </tr>\n",
       "  </tbody>\n",
       "</table>\n",
       "<p>5 rows × 32 columns</p>\n",
       "</div>"
      ],
      "text/plain": [
       "   bookmark_count bookmarked  conversation_id_str                      date  \\\n",
       "0             0.0        0.0         1.851117e+18 2025-03-03 23:44:35+00:00   \n",
       "1            13.0        0.0         1.896604e+18 2025-03-03 21:39:31+00:00   \n",
       "2             0.0        0.0         1.896608e+18 2025-03-03 22:15:19+00:00   \n",
       "3             0.0        0.0         1.896620e+18 2025-03-03 21:47:38+00:00   \n",
       "4             0.0        0.0         1.896637e+18 2025-03-03 22:17:21+00:00   \n",
       "\n",
       "  display_text_range                                           entities  \\\n",
       "0          [10, 107]  {'hashtags': [], 'symbols': [], 'timestamps': ...   \n",
       "1           [0, 204]  {'hashtags': [], 'symbols': [], 'timestamps': ...   \n",
       "2          [14, 198]  {'hashtags': [], 'symbols': [], 'timestamps': ...   \n",
       "3           [17, 79]  {'hashtags': [], 'symbols': [], 'timestamps': ...   \n",
       "4           [16, 96]  {'hashtags': [], 'symbols': [], 'timestamps': ...   \n",
       "\n",
       "   favorite_count favorited  \\\n",
       "0             0.0       0.0   \n",
       "1           257.0       0.0   \n",
       "2             1.0       0.0   \n",
       "3             0.0       0.0   \n",
       "4             0.0       0.0   \n",
       "\n",
       "                                               tweet in_reply_to_screen_name  \\\n",
       "0  @joerogan Follow me for a chance to win a $25 ...                joerogan   \n",
       "1  UPDATE: My buddy just got a card in the mail f...                 CElguea   \n",
       "2  @AuntSassyAss Deposit it so I don’t have to se...            AuntSassyAss   \n",
       "3  @TheRichFromCali He buy the 5 million dollar g...         TheRichFromCali   \n",
       "4  @JustnThePhotog Simping to Eric Trump while ru...          JustnThePhotog   \n",
       "\n",
       "   ...                                         twitterUrl  \\\n",
       "0  ...  https://twitter.com/Duke18fan/status/185111718...   \n",
       "1  ...  https://twitter.com/CElguea/status/18966043256...   \n",
       "2  ...  https://twitter.com/MrAuDaCity2U/status/189660...   \n",
       "3  ...  https://twitter.com/theTaooftheDao/status/1896...   \n",
       "4  ...  https://twitter.com/DanielxKilleen/status/1896...   \n",
       "\n",
       "                                         searchTerms  \\\n",
       "0  dollar card since:2025-01-01 until:2025-03-04 ...   \n",
       "1  dollar card since:2025-01-01 until:2025-03-04 ...   \n",
       "2  dollar card since:2025-01-01 until:2025-03-04 ...   \n",
       "3  dollar card since:2025-01-01 until:2025-03-04 ...   \n",
       "4  dollar card since:2025-01-01 until:2025-03-04 ...   \n",
       "\n",
       "                                   extended_entities possibly_sensitive  \\\n",
       "0                                                NaN                NaN   \n",
       "1  {'media': [{'display_url': 'pic.x.com/5M9Q1sf7...                0.0   \n",
       "2                                                NaN                NaN   \n",
       "3                                                NaN                NaN   \n",
       "4                                                NaN                NaN   \n",
       "\n",
       "   possibly_sensitive_editable  conversation_control  place  \\\n",
       "0                          NaN                   NaN    NaN   \n",
       "1                          1.0                   NaN    NaN   \n",
       "2                          NaN                   NaN    NaN   \n",
       "3                          NaN                   NaN    NaN   \n",
       "4                          NaN                   NaN    NaN   \n",
       "\n",
       "  quoted_status_id_str  composer_source coordinates  \n",
       "0                  NaN              NaN         NaN  \n",
       "1                  NaN              NaN         NaN  \n",
       "2                  NaN              NaN         NaN  \n",
       "3                  NaN              NaN         NaN  \n",
       "4                  NaN              NaN         NaN  \n",
       "\n",
       "[5 rows x 32 columns]"
      ]
     },
     "execution_count": 40,
     "metadata": {},
     "output_type": "execute_result"
    }
   ],
   "source": [
    "df.head()"
   ]
  },
  {
   "cell_type": "code",
   "execution_count": 45,
   "id": "8a47f325-71ec-405a-a2b5-5d0de18e6de7",
   "metadata": {},
   "outputs": [
    {
     "data": {
      "text/plain": [
       "array(['en', 'tl', 'et', 'nl'], dtype=object)"
      ]
     },
     "execution_count": 45,
     "metadata": {},
     "output_type": "execute_result"
    }
   ],
   "source": [
    "df[\"lang\"].unique()"
   ]
  },
  {
   "cell_type": "code",
   "execution_count": 47,
   "id": "31c36ade-9f3a-4c72-a04a-78e0189d2ebc",
   "metadata": {},
   "outputs": [
    {
     "data": {
      "text/plain": [
       "array(['en'], dtype=object)"
      ]
     },
     "execution_count": 47,
     "metadata": {},
     "output_type": "execute_result"
    }
   ],
   "source": [
    "#droping tweet rows which languange isn't english laguage\n",
    "df = df[df[\"lang\"].isin(['en'])]\n",
    "df[\"lang\"].unique()"
   ]
  },
  {
   "cell_type": "code",
   "execution_count": 48,
   "id": "bc53e362-ec27-4176-bb97-0d608e663748",
   "metadata": {},
   "outputs": [
    {
     "data": {
      "text/plain": [
       "(21901, 32)"
      ]
     },
     "execution_count": 48,
     "metadata": {},
     "output_type": "execute_result"
    }
   ],
   "source": [
    "df.shape"
   ]
  },
  {
   "cell_type": "code",
   "execution_count": 49,
   "id": "5bcec2e1-c8d5-47d3-a83c-45968bc78437",
   "metadata": {},
   "outputs": [],
   "source": [
    "df = df[['id','url','tweet','date','retweet_count','reply_count','quote_count','in_reply_to_screen_name','searchTerms']]"
   ]
  },
  {
   "cell_type": "code",
   "execution_count": 52,
   "id": "19fd733c-b373-44e9-a25f-7b80793f5346",
   "metadata": {},
   "outputs": [
    {
     "data": {
      "text/plain": [
       "Index(['id', 'url', 'tweet', 'date', 'retweet_count', 'reply_count',\n",
       "       'quote_count', 'in_reply_to_screen_name', 'searchTerms', 'user'],\n",
       "      dtype='object')"
      ]
     },
     "execution_count": 52,
     "metadata": {},
     "output_type": "execute_result"
    }
   ],
   "source": [
    "df.columns"
   ]
  },
  {
   "cell_type": "code",
   "execution_count": 51,
   "id": "ce14cb05-0537-4875-a80a-52a85a588a61",
   "metadata": {},
   "outputs": [],
   "source": [
    "#df['UserName'] = df['url'].str.slice(0, 3)\n",
    "df['user'] = df['url'].apply(lambda x: x.split('/')[3])"
   ]
  },
  {
   "cell_type": "code",
   "execution_count": 78,
   "id": "4835c045-40a8-4cd3-9a52-7e14ba94477a",
   "metadata": {},
   "outputs": [
    {
     "name": "stderr",
     "output_type": "stream",
     "text": [
      "/tmp/ipykernel_580602/2590659636.py:5: UserWarning: This pattern is interpreted as a regular expression, and has match groups. To actually get the groups, use str.extract.\n",
      "  df = df[df['tweet'].str.contains(pattern, case=False, na=False)]\n"
     ]
    },
    {
     "data": {
      "text/plain": [
       "(16041, 11)"
      ]
     },
     "execution_count": 78,
     "metadata": {},
     "output_type": "execute_result"
    }
   ],
   "source": [
    "# Define the pattern, using the regex OR operator\n",
    "pattern = r\"(dollar card|virtual card|USD card|virtual dollar card|virtual USD card)\"\n",
    "\n",
    "# Filter rows in the DataFrame that match the pattern in the 'text' column (case insensitive)\n",
    "df = df[df['tweet'].str.contains(pattern, case=False, na=False)]\n",
    "\n",
    "df.shape"
   ]
  },
  {
   "cell_type": "code",
   "execution_count": 128,
   "id": "81799ff5-9e14-45b0-973c-2793a0b1d47b",
   "metadata": {},
   "outputs": [],
   "source": [
    "df.to_csv('/home/anelawrence/cardtonic_data/virtual_cards/clean_virtual_card_data.csv', index=False)"
   ]
  },
  {
   "cell_type": "markdown",
   "id": "89b90a4a-bb87-4873-83f0-15e482cac4cc",
   "metadata": {},
   "source": [
    "## Data Preprocessing"
   ]
  },
  {
   "cell_type": "code",
   "execution_count": 3,
   "id": "93da4f13-a394-478c-869f-92d9c11cf8cf",
   "metadata": {},
   "outputs": [],
   "source": [
    "df = pd.read_csv('/home/anelawrence/cardtonic_data/virtual_cards/clean_virtual_card_data.csv')"
   ]
  },
  {
   "cell_type": "code",
   "execution_count": 4,
   "id": "a30a7dc0-6783-4f2b-8259-aa6aab18070b",
   "metadata": {},
   "outputs": [
    {
     "data": {
      "text/plain": [
       "(16041, 12)"
      ]
     },
     "execution_count": 4,
     "metadata": {},
     "output_type": "execute_result"
    }
   ],
   "source": [
    "df.shape"
   ]
  },
  {
   "cell_type": "code",
   "execution_count": 5,
   "id": "0386f116-5c4a-4db2-9351-47d49a643c4e",
   "metadata": {},
   "outputs": [],
   "source": [
    "# Define a function to check for each virtual card brand\n",
    "def get_virtual_card(tweet):\n",
    "    # Ensure tweet is a string and convert to lower case for case-insensitive matching\n",
    "    tweet_lower = tweet.lower() if isinstance(tweet, str) else ''\n",
    "\n",
    "    \n",
    "    if any(keyword.lower() in tweet_lower for keyword in [\"Barter\", \"Flutterwave\", \"FlwSupport\", \"Barter card\", \"Barter virtual card\"]):\n",
    "        return \"Flutterwave\"\n",
    "    elif any(keyword.lower() in tweet_lower for keyword in [\"ALAT\", \"Wema Bank\"]):\n",
    "        return \"ALAT by Wema\"\n",
    "    elif any(keyword.lower() in tweet_lower for keyword in [\"Chipper\", \"Chipper Card\", \"Chipper Cash\", \"Chipper virtual card\"]):\n",
    "        return \"Chipper Cash\"\n",
    "    elif any(keyword.lower() in tweet_lower for keyword in [\"Bitsika\", \"Bitsika card\", \"#Bitsika\"]):\n",
    "        return \"Bitsika\"\n",
    "    elif any(keyword.lower() in tweet_lower for keyword in [\"kuda\", \"Kuda Bank\", \"Kuda virtual card\", \"#KudaBank\"]):\n",
    "        return \"Kuda Bank\"\n",
    "    elif any(keyword.lower() in tweet_lower for keyword in [\"Fundall\", \"Fundall virtual card\", \"Fundall card\"]):\n",
    "        return \"Fundall\"\n",
    "    elif any(keyword.lower() in tweet_lower for keyword in [\"#Payday\", \"Payday virtual card\", \"Payday card\", \"ourpaydayHQ\"]):\n",
    "        return \"Payday\"\n",
    "    elif any(keyword.lower() in tweet_lower for keyword in [\"Eversend\", \"Eversend virtual card\", \"Eversend card\"]):\n",
    "        return \"Eversend\"\n",
    "    elif any(keyword.lower() in tweet_lower for keyword in [\"Changera\", \"Changera virtual card\"]):\n",
    "        return \"Changera\"\n",
    "    elif any(keyword.lower() in tweet_lower for keyword in [\"Grey card\", \"Grey\"]):\n",
    "        return \"Grey\"\n",
    "    elif any(keyword.lower() in tweet_lower for keyword in [\"Cardtonic\", \"Cardtonic virtual card\", \"#Cardtonic\", \"Cardtronic\"]):\n",
    "        return \"Cardtonic\"\n",
    "    elif any(keyword.lower() in tweet_lower for keyword in [\"Vesti\"]):\n",
    "        return \"Vesti\"\n",
    "    elif any(keyword.lower() in tweet_lower for keyword in [\"GeePay\",]):\n",
    "        return \"GeePay\"\n",
    "    elif any(keyword.lower() in tweet_lower for keyword in [\"Cardify\"]):\n",
    "        return \"Cardify\"\n",
    "    elif any(keyword.lower() in tweet_lower for keyword in [\"PSTNET\"]):\n",
    "        return \"PSTNET\"\n",
    "    elif any(keyword.lower() in tweet_lower for keyword in [\"Zole\"]):\n",
    "        return \"Zole\"\n",
    "    elif any(keyword.lower() in tweet_lower for keyword in [\"Klasha\"]):\n",
    "        return \"Klasha\"\n",
    "    elif any(keyword.lower() in tweet_lower for keyword in [\"Dantown\"]):\n",
    "        return \"Dantown\"\n",
    "    elif any(keyword.lower() in tweet_lower for keyword in [\"Spectrocard\"]):\n",
    "        return \"Spectrocard\"\n",
    "    elif any(keyword.lower() in tweet_lower for keyword in [\"Tribapay\"]):\n",
    "        return \"Tribapay\"\n",
    "    elif any(keyword.lower() in tweet_lower for keyword in [\"Bitnob\"]):\n",
    "        return \"Bitnob\"\n",
    "    elif any(keyword.lower() in tweet_lower for keyword in [\"Eyowo\"]):\n",
    "        return \"Eyowo\"\n",
    "    elif any(keyword.lower() in tweet_lower for keyword in [\"Gomoney\"]):\n",
    "        return \"Gomoney\"\n",
    "    elif any(keyword.lower() in tweet_lower for keyword in [\"Nearpays\"]):\n",
    "        return \"Nearpays\"\n",
    "    elif any(keyword.lower() in tweet_lower for keyword in [\"geegpay_hq\", \"geegpay\"]):\n",
    "        return \"Geegpay\"\n",
    "    elif any(keyword.lower() in tweet_lower for keyword in [\"swyftpay_io\", \"swyftpay\"]):\n",
    "        return \"swyftpay\"\n",
    "    else:\n",
    "        return \"Others\"  \n"
   ]
  },
  {
   "cell_type": "code",
   "execution_count": 6,
   "id": "ffaf19de-926e-4c06-8aed-52caa2849743",
   "metadata": {},
   "outputs": [],
   "source": [
    "# Apply function to DataFrame and to create 'virtual_card' column with tweet text\n",
    "df['card_brand'] = df['tweet'].apply(get_virtual_card)"
   ]
  },
  {
   "cell_type": "code",
   "execution_count": 7,
   "id": "6bd0f16a-5c5d-4390-a4ac-c27eaa892cc0",
   "metadata": {},
   "outputs": [
    {
     "data": {
      "text/plain": [
       "(67, 2)"
      ]
     },
     "execution_count": 7,
     "metadata": {},
     "output_type": "execute_result"
    }
   ],
   "source": [
    "#cardtonic, Vesti, GeePay, Grey, Chipper Cash, Cardify, PSTNET, Zole, Klasha, Bitsika, Dantown, Changera, ALAT by Wema, Spectrocard, Tribapay, Fundall, Bitnob, Eyowo, Eversend, Gomoney, Nearpays\n",
    "# Set the max column width to None to display the full text\n",
    "pd.set_option('display.max_colwidth', None)\n",
    "\n",
    "df[df['card_brand'] == 'swyftpay'][['tweet', 'user']].shape"
   ]
  },
  {
   "cell_type": "code",
   "execution_count": null,
   "id": "98d8f38c-9aec-4a4c-a031-f1329334b35a",
   "metadata": {},
   "outputs": [],
   "source": [
    "# ['FlwSupport', 'FlutterwaveEng', 'chippercashapp', 'BitsikaAfrica', 'PAYDAY3Techie', 'merlineversend', 'eversendapp',\n",
    "# 'tomwilladof', 'alat_ng', 'adwianprio', 'pangsitgowreng', 'joshun', 'selkcouth', 'oraspele', 'PunkPink1283539', \n",
    "#  'Dinasti_313', 'reinaldyjpr', '26TRIXZZ', 'wemabank', 'alat_tech', 'grok', 'jamesnotjemss', 'greyfinance', \n",
    "#  'get_fundall', 'VestiOfficial', 'geegpay_hq', 'CardifyAfrica', 'zoleapp', 'KlashaApp', 'godantown', 'Dantown_ads', \n",
    "#  'Tribapay', 'TribapaySupport', 'Bitnob_official', 'eyowo', 'gomoneyng', 'nearpays', 'geegpay_hq', 'swyftpay_io' ]"
   ]
  },
  {
   "cell_type": "code",
   "execution_count": 8,
   "id": "55e1b787-5d7b-4cf8-8465-5c7ec110f21f",
   "metadata": {},
   "outputs": [
    {
     "data": {
      "text/plain": [
       "(15624, 12)"
      ]
     },
     "execution_count": 8,
     "metadata": {},
     "output_type": "execute_result"
    }
   ],
   "source": [
    "# Dropping tweets from official account and some other non-relevant tweets\n",
    "# List of users to exclude\n",
    "exclude_users = [\n",
    "    'FlwSupport', 'FlutterwaveEng', 'chippercashapp', 'BitsikaAfrica', 'PAYDAY3Techie', \n",
    "    'merlineversend', 'eversendapp', 'tomwilladof', 'alat_ng', 'adwianprio', \n",
    "    'pangsitgowreng', 'joshun', 'selkcouth', 'oraspele', 'PunkPink1283539', \n",
    "    'Dinasti_313', 'reinaldyjpr', '26TRIXZZ', 'wemabank', 'alat_tech', \n",
    "    'grok', 'jamesnotjemss', 'greyfinance', 'get_fundall', 'cardtonic', \n",
    "    'VestiOfficial', 'geegpay_hq', 'CardifyAfrica', 'zoleapp', 'KlashaApp', 'godantown', 'Dantown_ads', \n",
    "    'Tribapay', 'TribapaySupport', 'Bitnob_official', 'eyowo', 'gomoneyng', 'nearpays', 'geegpay_hq', 'swyftpay_io' \n",
    "]\n",
    "\n",
    "# Filter the DataFrame to drop rows where the 'User' column is in the exclude_users list\n",
    "df = df[~df['user'].isin(exclude_users)]\n",
    "df.shape"
   ]
  },
  {
   "cell_type": "code",
   "execution_count": 9,
   "id": "c4ce77ec-75dd-45e4-8a8e-9b2475635e3d",
   "metadata": {},
   "outputs": [
    {
     "data": {
      "text/plain": [
       "(10870, 12)"
      ]
     },
     "execution_count": 9,
     "metadata": {},
     "output_type": "execute_result"
    }
   ],
   "source": [
    "# Set the max column width to None to display the full text\n",
    "pd.set_option('display.max_colwidth', None)\n",
    "\n",
    "df_others = df[df['card_brand'] == 'Others'] #[['tweet', 'user']]\n",
    "df_others.shape"
   ]
  },
  {
   "cell_type": "code",
   "execution_count": 10,
   "id": "278f6d0d-1073-4697-ba18-6cab0685a34b",
   "metadata": {},
   "outputs": [],
   "source": [
    "def clean_text(text):\n",
    "    # Replace @username with username and #hashtag with hashtag\n",
    "    text = re.sub(r'@(\\w+)', r'\\1', text)\n",
    "    text = re.sub(r'#(\\w+)', r'\\1', text)\n",
    "    \n",
    "    # Remove links\n",
    "    text = re.sub(r'https?://[A-Za-z0-9./]+', '', text)\n",
    "    \n",
    "    # Remove floating 's\n",
    "    text = re.sub(r\"\\'s\", '', text)\n",
    "    \n",
    "    # Remove &amp (with optional trailing space)\n",
    "    text = re.sub(r'&amp\\s*', '', text)\n",
    "    \n",
    "    # Remove newlines\n",
    "    text = re.sub(r'\\n', ' ', text)\n",
    "    \n",
    "    # Remove non-alphabet characters (except spaces)\n",
    "    text = re.sub(r'[^A-Za-z\\s]', '', text)\n",
    "    \n",
    "    return text.lower().strip()\n"
   ]
  },
  {
   "cell_type": "code",
   "execution_count": 11,
   "id": "2db288da-d058-4c12-8cbe-62288f62ee78",
   "metadata": {},
   "outputs": [],
   "source": [
    "df[\"clean_tweet\"] = df[\"tweet\"].apply(clean_text)"
   ]
  },
  {
   "cell_type": "code",
   "execution_count": 12,
   "id": "d1dec07f-977d-4de9-84ce-c1a4d84ab10d",
   "metadata": {},
   "outputs": [
    {
     "data": {
      "text/plain": [
       "0        ebay if its the fault of usps  the buyer should not be able to leave neutral or bad feedback over  positive feedback and got a negative because the card came bent over a  dollar card in a tracked pwe\n",
       "1    techrose greyfinance im not happy why is conversion of dollars from my us account to my dollar card still pending for over  hours now  i created a ticket but it wasnt responded too  pls fix this promptly\n",
       "2                                                                                                                                                   legendsdye billybrown cardpurchaser that a  dollar card easy\n",
       "3                                                                    swyftpayio una too useless my dollar card na so una carry am go with available balance   rest password una no gree send details useless org\n",
       "4                                                                                       i just created my useaccrue dollar card for seamless online payments get  cashback when you create yours using this link\n",
       "Name: clean_tweet, dtype: object"
      ]
     },
     "execution_count": 12,
     "metadata": {},
     "output_type": "execute_result"
    }
   ],
   "source": [
    "df[\"clean_tweet\"].head()"
   ]
  },
  {
   "cell_type": "code",
   "execution_count": 13,
   "id": "a8d1cae7-00da-4ed5-93d0-393d54d2fd5d",
   "metadata": {},
   "outputs": [
    {
     "data": {
      "text/plain": [
       "Index(['id', 'url', 'tweet', 'date', 'retweet_count', 'reply_count',\n",
       "       'quote_count', 'in_reply_to_screen_name', 'searchTerms', 'user',\n",
       "       'card_brand', 'clean_tweet'],\n",
       "      dtype='object')"
      ]
     },
     "execution_count": 13,
     "metadata": {},
     "output_type": "execute_result"
    }
   ],
   "source": [
    "df.columns"
   ]
  },
  {
   "cell_type": "code",
   "execution_count": 14,
   "id": "79bccdf6-1c67-4918-9eca-2bda49bd42bf",
   "metadata": {},
   "outputs": [],
   "source": [
    "# selecting the important columns for this analysis\n",
    "tweets_df = df[['date', 'clean_tweet', 'url', 'user', 'card_brand', 'retweet_count']]"
   ]
  },
  {
   "cell_type": "code",
   "execution_count": 15,
   "id": "1653358a-61c1-43f4-9d51-dec48c4f135f",
   "metadata": {},
   "outputs": [
    {
     "data": {
      "text/html": [
       "<div>\n",
       "<style scoped>\n",
       "    .dataframe tbody tr th:only-of-type {\n",
       "        vertical-align: middle;\n",
       "    }\n",
       "\n",
       "    .dataframe tbody tr th {\n",
       "        vertical-align: top;\n",
       "    }\n",
       "\n",
       "    .dataframe thead th {\n",
       "        text-align: right;\n",
       "    }\n",
       "</style>\n",
       "<table border=\"1\" class=\"dataframe\">\n",
       "  <thead>\n",
       "    <tr style=\"text-align: right;\">\n",
       "      <th></th>\n",
       "      <th>date</th>\n",
       "      <th>clean_tweet</th>\n",
       "      <th>url</th>\n",
       "      <th>user</th>\n",
       "      <th>card_brand</th>\n",
       "      <th>retweet_count</th>\n",
       "    </tr>\n",
       "  </thead>\n",
       "  <tbody>\n",
       "    <tr>\n",
       "      <th>0</th>\n",
       "      <td>2025-03-03 21:00:15+00:00</td>\n",
       "      <td>ebay if its the fault of usps  the buyer should not be able to leave neutral or bad feedback over  positive feedback and got a negative because the card came bent over a  dollar card in a tracked pwe</td>\n",
       "      <td>https://x.com/IJudgeWrestling/status/1896666955349950657</td>\n",
       "      <td>IJudgeWrestling</td>\n",
       "      <td>Others</td>\n",
       "      <td>0.0</td>\n",
       "    </tr>\n",
       "    <tr>\n",
       "      <th>1</th>\n",
       "      <td>2025-03-03 21:40:09+00:00</td>\n",
       "      <td>techrose greyfinance im not happy why is conversion of dollars from my us account to my dollar card still pending for over  hours now  i created a ticket but it wasnt responded too  pls fix this promptly</td>\n",
       "      <td>https://x.com/Godswill_10/status/1896370664577343928</td>\n",
       "      <td>Godswill_10</td>\n",
       "      <td>Grey</td>\n",
       "      <td>0.0</td>\n",
       "    </tr>\n",
       "    <tr>\n",
       "      <th>2</th>\n",
       "      <td>2025-03-03 20:47:23+00:00</td>\n",
       "      <td>legendsdye billybrown cardpurchaser that a  dollar card easy</td>\n",
       "      <td>https://x.com/ddem212/status/1896264691854512565</td>\n",
       "      <td>ddem212</td>\n",
       "      <td>Others</td>\n",
       "      <td>0.0</td>\n",
       "    </tr>\n",
       "    <tr>\n",
       "      <th>3</th>\n",
       "      <td>2025-03-03 20:13:48+00:00</td>\n",
       "      <td>swyftpayio una too useless my dollar card na so una carry am go with available balance   rest password una no gree send details useless org</td>\n",
       "      <td>https://x.com/LeoKhal70051884/status/1896633226049049076</td>\n",
       "      <td>LeoKhal70051884</td>\n",
       "      <td>swyftpay</td>\n",
       "      <td>0.0</td>\n",
       "    </tr>\n",
       "    <tr>\n",
       "      <th>4</th>\n",
       "      <td>2025-03-03 20:36:28+00:00</td>\n",
       "      <td>i just created my useaccrue dollar card for seamless online payments get  cashback when you create yours using this link</td>\n",
       "      <td>https://x.com/OtfRedeemer/status/1896660972473098338</td>\n",
       "      <td>OtfRedeemer</td>\n",
       "      <td>Others</td>\n",
       "      <td>1.0</td>\n",
       "    </tr>\n",
       "  </tbody>\n",
       "</table>\n",
       "</div>"
      ],
      "text/plain": [
       "                        date  \\\n",
       "0  2025-03-03 21:00:15+00:00   \n",
       "1  2025-03-03 21:40:09+00:00   \n",
       "2  2025-03-03 20:47:23+00:00   \n",
       "3  2025-03-03 20:13:48+00:00   \n",
       "4  2025-03-03 20:36:28+00:00   \n",
       "\n",
       "                                                                                                                                                                                                   clean_tweet  \\\n",
       "0      ebay if its the fault of usps  the buyer should not be able to leave neutral or bad feedback over  positive feedback and got a negative because the card came bent over a  dollar card in a tracked pwe   \n",
       "1  techrose greyfinance im not happy why is conversion of dollars from my us account to my dollar card still pending for over  hours now  i created a ticket but it wasnt responded too  pls fix this promptly   \n",
       "2                                                                                                                                                 legendsdye billybrown cardpurchaser that a  dollar card easy   \n",
       "3                                                                  swyftpayio una too useless my dollar card na so una carry am go with available balance   rest password una no gree send details useless org   \n",
       "4                                                                                     i just created my useaccrue dollar card for seamless online payments get  cashback when you create yours using this link   \n",
       "\n",
       "                                                        url             user  \\\n",
       "0  https://x.com/IJudgeWrestling/status/1896666955349950657  IJudgeWrestling   \n",
       "1      https://x.com/Godswill_10/status/1896370664577343928      Godswill_10   \n",
       "2          https://x.com/ddem212/status/1896264691854512565          ddem212   \n",
       "3  https://x.com/LeoKhal70051884/status/1896633226049049076  LeoKhal70051884   \n",
       "4      https://x.com/OtfRedeemer/status/1896660972473098338      OtfRedeemer   \n",
       "\n",
       "  card_brand  retweet_count  \n",
       "0     Others            0.0  \n",
       "1       Grey            0.0  \n",
       "2     Others            0.0  \n",
       "3   swyftpay            0.0  \n",
       "4     Others            1.0  "
      ]
     },
     "execution_count": 15,
     "metadata": {},
     "output_type": "execute_result"
    }
   ],
   "source": [
    "tweets_df.head()"
   ]
  },
  {
   "cell_type": "markdown",
   "id": "47f3a42e-aa1b-4ceb-bf14-8c1ca7261c49",
   "metadata": {},
   "source": [
    "### Apply Sentiment Analysis Model"
   ]
  },
  {
   "cell_type": "code",
   "execution_count": 16,
   "id": "a679df3a-d57f-49f5-a0d4-a87485320a51",
   "metadata": {},
   "outputs": [],
   "source": [
    "from transformers import AutoTokenizer, AutoModelForSequenceClassification\n",
    "import torch\n",
    "\n",
    "# Load tokenizer and model for a three-class sentiment analysis\n",
    "model_name = \"cardiffnlp/twitter-roberta-base-sentiment\"\n",
    "tokenizer = AutoTokenizer.from_pretrained(model_name)\n",
    "model = AutoModelForSequenceClassification.from_pretrained(model_name)\n",
    "\n",
    "# Define labels corresponding to the model's output indices\n",
    "labels = [\"negative\", \"neutral\", \"positive\"]\n",
    "\n",
    "# Sentiment Analysis function\n",
    "def predict_sentiment(tweet):\n",
    "    # Encode the text with truncation\n",
    "    inputs = tokenizer(tweet, return_tensors=\"pt\", truncation=True, max_length=512)\n",
    "    outputs = model(**inputs)\n",
    "    # Convert logits to probabilities\n",
    "    scores = outputs.logits.detach().numpy()[0]\n",
    "    scores = np.exp(scores) / np.sum(np.exp(scores))\n",
    "    max_index = scores.argmax()\n",
    "    return pd.Series([labels[max_index], scores[max_index]])"
   ]
  },
  {
   "cell_type": "code",
   "execution_count": 17,
   "id": "b0ad7b08-a258-4577-97ad-bd3db65187ca",
   "metadata": {},
   "outputs": [
    {
     "name": "stderr",
     "output_type": "stream",
     "text": [
      "/tmp/ipykernel_594276/1524018106.py:2: SettingWithCopyWarning: \n",
      "A value is trying to be set on a copy of a slice from a DataFrame.\n",
      "Try using .loc[row_indexer,col_indexer] = value instead\n",
      "\n",
      "See the caveats in the documentation: https://pandas.pydata.org/pandas-docs/stable/user_guide/indexing.html#returning-a-view-versus-a-copy\n",
      "  tweets_df[['sentiment', 'confidence']] = tweets_df['clean_tweet'].apply(predict_sentiment)\n",
      "/tmp/ipykernel_594276/1524018106.py:2: SettingWithCopyWarning: \n",
      "A value is trying to be set on a copy of a slice from a DataFrame.\n",
      "Try using .loc[row_indexer,col_indexer] = value instead\n",
      "\n",
      "See the caveats in the documentation: https://pandas.pydata.org/pandas-docs/stable/user_guide/indexing.html#returning-a-view-versus-a-copy\n",
      "  tweets_df[['sentiment', 'confidence']] = tweets_df['clean_tweet'].apply(predict_sentiment)\n"
     ]
    }
   ],
   "source": [
    "# Apply the prediction function to the DataFrame\n",
    "tweets_df[['sentiment', 'confidence']] = tweets_df['clean_tweet'].apply(predict_sentiment)"
   ]
  },
  {
   "cell_type": "code",
   "execution_count": 19,
   "id": "70eff9ff-2f52-43df-8d71-6f7824fcf778",
   "metadata": {},
   "outputs": [
    {
     "data": {
      "text/html": [
       "<div>\n",
       "<style scoped>\n",
       "    .dataframe tbody tr th:only-of-type {\n",
       "        vertical-align: middle;\n",
       "    }\n",
       "\n",
       "    .dataframe tbody tr th {\n",
       "        vertical-align: top;\n",
       "    }\n",
       "\n",
       "    .dataframe thead th {\n",
       "        text-align: right;\n",
       "    }\n",
       "</style>\n",
       "<table border=\"1\" class=\"dataframe\">\n",
       "  <thead>\n",
       "    <tr style=\"text-align: right;\">\n",
       "      <th></th>\n",
       "      <th>sentiment</th>\n",
       "      <th>confidence</th>\n",
       "      <th>clean_tweet</th>\n",
       "      <th>date</th>\n",
       "    </tr>\n",
       "  </thead>\n",
       "  <tbody>\n",
       "    <tr>\n",
       "      <th>0</th>\n",
       "      <td>negative</td>\n",
       "      <td>0.771423</td>\n",
       "      <td>ebay if its the fault of usps  the buyer should not be able to leave neutral or bad feedback over  positive feedback and got a negative because the card came bent over a  dollar card in a tracked pwe</td>\n",
       "      <td>2025-03-03 21:00:15+00:00</td>\n",
       "    </tr>\n",
       "    <tr>\n",
       "      <th>1</th>\n",
       "      <td>negative</td>\n",
       "      <td>0.937683</td>\n",
       "      <td>techrose greyfinance im not happy why is conversion of dollars from my us account to my dollar card still pending for over  hours now  i created a ticket but it wasnt responded too  pls fix this promptly</td>\n",
       "      <td>2025-03-03 21:40:09+00:00</td>\n",
       "    </tr>\n",
       "    <tr>\n",
       "      <th>2</th>\n",
       "      <td>neutral</td>\n",
       "      <td>0.729192</td>\n",
       "      <td>legendsdye billybrown cardpurchaser that a  dollar card easy</td>\n",
       "      <td>2025-03-03 20:47:23+00:00</td>\n",
       "    </tr>\n",
       "    <tr>\n",
       "      <th>3</th>\n",
       "      <td>negative</td>\n",
       "      <td>0.683774</td>\n",
       "      <td>swyftpayio una too useless my dollar card na so una carry am go with available balance   rest password una no gree send details useless org</td>\n",
       "      <td>2025-03-03 20:13:48+00:00</td>\n",
       "    </tr>\n",
       "    <tr>\n",
       "      <th>4</th>\n",
       "      <td>neutral</td>\n",
       "      <td>0.713939</td>\n",
       "      <td>i just created my useaccrue dollar card for seamless online payments get  cashback when you create yours using this link</td>\n",
       "      <td>2025-03-03 20:36:28+00:00</td>\n",
       "    </tr>\n",
       "    <tr>\n",
       "      <th>5</th>\n",
       "      <td>neutral</td>\n",
       "      <td>0.788037</td>\n",
       "      <td>dollar card anyone chipper wan rip me</td>\n",
       "      <td>2025-03-03 20:04:42+00:00</td>\n",
       "    </tr>\n",
       "    <tr>\n",
       "      <th>6</th>\n",
       "      <td>neutral</td>\n",
       "      <td>0.581777</td>\n",
       "      <td>unusualwhales yeah because  million people are going to buy a  million dollar card</td>\n",
       "      <td>2025-03-03 17:23:34+00:00</td>\n",
       "    </tr>\n",
       "    <tr>\n",
       "      <th>7</th>\n",
       "      <td>positive</td>\n",
       "      <td>0.640563</td>\n",
       "      <td>international payments made easy get your payswitch dollar card for just  and start spending globally  payswitch dollarcard globalpayment</td>\n",
       "      <td>2025-03-03 17:46:36+00:00</td>\n",
       "    </tr>\n",
       "    <tr>\n",
       "      <th>8</th>\n",
       "      <td>neutral</td>\n",
       "      <td>0.875166</td>\n",
       "      <td>who has an useaccrue referral code earn  when i create my virtual dollar card using your referral code</td>\n",
       "      <td>2025-03-03 16:43:14+00:00</td>\n",
       "    </tr>\n",
       "    <tr>\n",
       "      <th>9</th>\n",
       "      <td>positive</td>\n",
       "      <td>0.771042</td>\n",
       "      <td>with origine you can  connect your favourite code repositories including github gitlab and bitbucket  pay in naira no need for a dollar card  visit   to get started</td>\n",
       "      <td>2025-03-03 16:46:22+00:00</td>\n",
       "    </tr>\n",
       "  </tbody>\n",
       "</table>\n",
       "</div>"
      ],
      "text/plain": [
       "  sentiment  confidence  \\\n",
       "0  negative    0.771423   \n",
       "1  negative    0.937683   \n",
       "2   neutral    0.729192   \n",
       "3  negative    0.683774   \n",
       "4   neutral    0.713939   \n",
       "5   neutral    0.788037   \n",
       "6   neutral    0.581777   \n",
       "7  positive    0.640563   \n",
       "8   neutral    0.875166   \n",
       "9  positive    0.771042   \n",
       "\n",
       "                                                                                                                                                                                                   clean_tweet  \\\n",
       "0      ebay if its the fault of usps  the buyer should not be able to leave neutral or bad feedback over  positive feedback and got a negative because the card came bent over a  dollar card in a tracked pwe   \n",
       "1  techrose greyfinance im not happy why is conversion of dollars from my us account to my dollar card still pending for over  hours now  i created a ticket but it wasnt responded too  pls fix this promptly   \n",
       "2                                                                                                                                                 legendsdye billybrown cardpurchaser that a  dollar card easy   \n",
       "3                                                                  swyftpayio una too useless my dollar card na so una carry am go with available balance   rest password una no gree send details useless org   \n",
       "4                                                                                     i just created my useaccrue dollar card for seamless online payments get  cashback when you create yours using this link   \n",
       "5                                                                                                                                                                        dollar card anyone chipper wan rip me   \n",
       "6                                                                                                                           unusualwhales yeah because  million people are going to buy a  million dollar card   \n",
       "7                                                                    international payments made easy get your payswitch dollar card for just  and start spending globally  payswitch dollarcard globalpayment   \n",
       "8                                                                                                       who has an useaccrue referral code earn  when i create my virtual dollar card using your referral code   \n",
       "9                                         with origine you can  connect your favourite code repositories including github gitlab and bitbucket  pay in naira no need for a dollar card  visit   to get started   \n",
       "\n",
       "                        date  \n",
       "0  2025-03-03 21:00:15+00:00  \n",
       "1  2025-03-03 21:40:09+00:00  \n",
       "2  2025-03-03 20:47:23+00:00  \n",
       "3  2025-03-03 20:13:48+00:00  \n",
       "4  2025-03-03 20:36:28+00:00  \n",
       "5  2025-03-03 20:04:42+00:00  \n",
       "6  2025-03-03 17:23:34+00:00  \n",
       "7  2025-03-03 17:46:36+00:00  \n",
       "8  2025-03-03 16:43:14+00:00  \n",
       "9  2025-03-03 16:46:22+00:00  "
      ]
     },
     "execution_count": 19,
     "metadata": {},
     "output_type": "execute_result"
    }
   ],
   "source": [
    "tweets_df[['sentiment', 'confidence','clean_tweet', 'date']].head(10)"
   ]
  },
  {
   "cell_type": "code",
   "execution_count": 24,
   "id": "e42f4bd2-6833-46f9-ace6-889636b9ecb4",
   "metadata": {},
   "outputs": [
    {
     "name": "stdout",
     "output_type": "stream",
     "text": [
      "sentiment\n",
      "neutral     8094\n",
      "negative    3888\n",
      "positive    3642\n",
      "Name: count, dtype: int64\n"
     ]
    },
    {
     "data": {
      "text/plain": [
       "[0.5180491551459293, 0.2488479262672811, 0.23310291858678955]"
      ]
     },
     "execution_count": 24,
     "metadata": {},
     "output_type": "execute_result"
    }
   ],
   "source": [
    "# Count positive, negative & neural values\n",
    "print(tweets_df['sentiment'].value_counts())\n",
    "tweets_df['sentiment'].value_counts('proportion').to_list()"
   ]
  },
  {
   "cell_type": "code",
   "execution_count": 25,
   "id": "789e5fda-f394-4791-97d2-58a507a3079e",
   "metadata": {},
   "outputs": [
    {
     "name": "stderr",
     "output_type": "stream",
     "text": [
      "/tmp/ipykernel_594276/659878373.py:10: SettingWithCopyWarning: \n",
      "A value is trying to be set on a copy of a slice from a DataFrame.\n",
      "Try using .loc[row_indexer,col_indexer] = value instead\n",
      "\n",
      "See the caveats in the documentation: https://pandas.pydata.org/pandas-docs/stable/user_guide/indexing.html#returning-a-view-versus-a-copy\n",
      "  tweets_df['polarity'] = tweets_df['sentiment'].apply(analysis)\n"
     ]
    }
   ],
   "source": [
    "#creating a polarity column to show if the tweet is positive, negative or neutral (1,-1,0)\n",
    "def analysis(score):\n",
    "    if score == \"negative\":\n",
    "        return -1\n",
    "    elif score == \"neutral\":\n",
    "        return 0\n",
    "    else:\n",
    "        return 1\n",
    "\n",
    "tweets_df['polarity'] = tweets_df['sentiment'].apply(analysis)"
   ]
  },
  {
   "cell_type": "code",
   "execution_count": 28,
   "id": "1669c5a7-cbdd-4141-bda4-863c1b266166",
   "metadata": {},
   "outputs": [
    {
     "data": {
      "text/html": [
       "<div>\n",
       "<style scoped>\n",
       "    .dataframe tbody tr th:only-of-type {\n",
       "        vertical-align: middle;\n",
       "    }\n",
       "\n",
       "    .dataframe tbody tr th {\n",
       "        vertical-align: top;\n",
       "    }\n",
       "\n",
       "    .dataframe thead th {\n",
       "        text-align: right;\n",
       "    }\n",
       "</style>\n",
       "<table border=\"1\" class=\"dataframe\">\n",
       "  <thead>\n",
       "    <tr style=\"text-align: right;\">\n",
       "      <th></th>\n",
       "      <th>date</th>\n",
       "      <th>sentiment</th>\n",
       "      <th>confidence</th>\n",
       "      <th>polarity</th>\n",
       "      <th>clean_tweet</th>\n",
       "      <th>card_brand</th>\n",
       "    </tr>\n",
       "  </thead>\n",
       "  <tbody>\n",
       "    <tr>\n",
       "      <th>0</th>\n",
       "      <td>2025-03-03 21:00:15+00:00</td>\n",
       "      <td>negative</td>\n",
       "      <td>0.771423</td>\n",
       "      <td>-1</td>\n",
       "      <td>ebay if its the fault of usps  the buyer should not be able to leave neutral or bad feedback over  positive feedback and got a negative because the card came bent over a  dollar card in a tracked pwe</td>\n",
       "      <td>Others</td>\n",
       "    </tr>\n",
       "    <tr>\n",
       "      <th>1</th>\n",
       "      <td>2025-03-03 21:40:09+00:00</td>\n",
       "      <td>negative</td>\n",
       "      <td>0.937683</td>\n",
       "      <td>-1</td>\n",
       "      <td>techrose greyfinance im not happy why is conversion of dollars from my us account to my dollar card still pending for over  hours now  i created a ticket but it wasnt responded too  pls fix this promptly</td>\n",
       "      <td>Grey</td>\n",
       "    </tr>\n",
       "    <tr>\n",
       "      <th>2</th>\n",
       "      <td>2025-03-03 20:47:23+00:00</td>\n",
       "      <td>neutral</td>\n",
       "      <td>0.729192</td>\n",
       "      <td>0</td>\n",
       "      <td>legendsdye billybrown cardpurchaser that a  dollar card easy</td>\n",
       "      <td>Others</td>\n",
       "    </tr>\n",
       "    <tr>\n",
       "      <th>3</th>\n",
       "      <td>2025-03-03 20:13:48+00:00</td>\n",
       "      <td>negative</td>\n",
       "      <td>0.683774</td>\n",
       "      <td>-1</td>\n",
       "      <td>swyftpayio una too useless my dollar card na so una carry am go with available balance   rest password una no gree send details useless org</td>\n",
       "      <td>swyftpay</td>\n",
       "    </tr>\n",
       "    <tr>\n",
       "      <th>4</th>\n",
       "      <td>2025-03-03 20:36:28+00:00</td>\n",
       "      <td>neutral</td>\n",
       "      <td>0.713939</td>\n",
       "      <td>0</td>\n",
       "      <td>i just created my useaccrue dollar card for seamless online payments get  cashback when you create yours using this link</td>\n",
       "      <td>Others</td>\n",
       "    </tr>\n",
       "  </tbody>\n",
       "</table>\n",
       "</div>"
      ],
      "text/plain": [
       "                        date sentiment  confidence  polarity  \\\n",
       "0  2025-03-03 21:00:15+00:00  negative    0.771423        -1   \n",
       "1  2025-03-03 21:40:09+00:00  negative    0.937683        -1   \n",
       "2  2025-03-03 20:47:23+00:00   neutral    0.729192         0   \n",
       "3  2025-03-03 20:13:48+00:00  negative    0.683774        -1   \n",
       "4  2025-03-03 20:36:28+00:00   neutral    0.713939         0   \n",
       "\n",
       "                                                                                                                                                                                                   clean_tweet  \\\n",
       "0      ebay if its the fault of usps  the buyer should not be able to leave neutral or bad feedback over  positive feedback and got a negative because the card came bent over a  dollar card in a tracked pwe   \n",
       "1  techrose greyfinance im not happy why is conversion of dollars from my us account to my dollar card still pending for over  hours now  i created a ticket but it wasnt responded too  pls fix this promptly   \n",
       "2                                                                                                                                                 legendsdye billybrown cardpurchaser that a  dollar card easy   \n",
       "3                                                                  swyftpayio una too useless my dollar card na so una carry am go with available balance   rest password una no gree send details useless org   \n",
       "4                                                                                     i just created my useaccrue dollar card for seamless online payments get  cashback when you create yours using this link   \n",
       "\n",
       "  card_brand  \n",
       "0     Others  \n",
       "1       Grey  \n",
       "2     Others  \n",
       "3   swyftpay  \n",
       "4     Others  "
      ]
     },
     "execution_count": 28,
     "metadata": {},
     "output_type": "execute_result"
    }
   ],
   "source": [
    "tweets_df[['date', 'sentiment', 'confidence', 'polarity','clean_tweet', 'card_brand']].head()"
   ]
  },
  {
   "cell_type": "code",
   "execution_count": 29,
   "id": "0f72a0e6-c62a-404b-be03-b382ddc5f5b1",
   "metadata": {},
   "outputs": [
    {
     "name": "stdout",
     "output_type": "stream",
     "text": [
      "False\n",
      "False\n"
     ]
    }
   ],
   "source": [
    "print(tweets_df['clean_tweet'].isnull().any())\n",
    "print(tweets_df['date'].isnull().any())"
   ]
  },
  {
   "cell_type": "code",
   "execution_count": 50,
   "id": "52470b66-1512-49b0-88ba-bdb94a0d6c86",
   "metadata": {},
   "outputs": [],
   "source": [
    "tweets_df = tweets_df[~((tweets_df['clean_tweet'].str.contains('kenya', case=False, na=False)) &\n",
    "    (tweets_df['card_brand'] == 'Others'))].reset_index(drop=True)"
   ]
  },
  {
   "cell_type": "code",
   "execution_count": 51,
   "id": "1ff3139c-8182-4958-96c1-d2b33a627793",
   "metadata": {},
   "outputs": [
    {
     "data": {
      "text/plain": [
       "(15600, 9)"
      ]
     },
     "execution_count": 51,
     "metadata": {},
     "output_type": "execute_result"
    }
   ],
   "source": [
    "tweets_df.shape"
   ]
  },
  {
   "cell_type": "code",
   "execution_count": 52,
   "id": "0dd7e329-8a21-4f13-b5dd-bd1381e41d80",
   "metadata": {},
   "outputs": [],
   "source": [
    "tweets_df.to_csv('/home/anelawrence/cardtonic_data/virtual_cards/analyzed_vc_data.csv', index=False)"
   ]
  },
  {
   "cell_type": "markdown",
   "id": "a37bec27-66fe-4831-8f73-36f88aaa924f",
   "metadata": {},
   "source": [
    "## Data Visualization and Exploratory"
   ]
  },
  {
   "cell_type": "code",
   "execution_count": 56,
   "id": "a867518a-b19c-48f3-acd5-7c8037a50117",
   "metadata": {},
   "outputs": [],
   "source": [
    "tweets_df = pd.read_csv('/home/anelawrence/cardtonic_data/virtual_cards/analyzed_vc_data.csv')"
   ]
  },
  {
   "cell_type": "code",
   "execution_count": 59,
   "id": "3ee951e3-68a7-4b5c-9492-af435ba256a1",
   "metadata": {},
   "outputs": [
    {
     "data": {
      "text/plain": [
       "(15600, 9)"
      ]
     },
     "execution_count": 59,
     "metadata": {},
     "output_type": "execute_result"
    }
   ],
   "source": [
    "tweets_df.shape"
   ]
  },
  {
   "cell_type": "code",
   "execution_count": 58,
   "id": "162d7b3c-91aa-4e9b-b8e5-f37bc01a77a2",
   "metadata": {},
   "outputs": [
    {
     "name": "stdout",
     "output_type": "stream",
     "text": [
      "False\n",
      "False\n"
     ]
    }
   ],
   "source": [
    "print(tweets_df['clean_tweet'].isnull().any())\n",
    "print(tweets_df['date'].isnull().any())"
   ]
  },
  {
   "cell_type": "code",
   "execution_count": 61,
   "id": "f3a90bf8-7089-4be3-8f3f-ec1e1934710b",
   "metadata": {},
   "outputs": [
    {
     "name": "stdout",
     "output_type": "stream",
     "text": [
      "Total tweet:  15600\n",
      "Number of Users: 11291\n"
     ]
    }
   ],
   "source": [
    "total_tweets = tweets_df.shape[0]\n",
    "print(\"Total tweet: \", total_tweets)\n",
    "\n",
    "user_count = tweets_df['user'].nunique()\n",
    "print('Number of Users:', user_count)"
   ]
  },
  {
   "cell_type": "code",
   "execution_count": 62,
   "id": "016718cd-5336-47fd-acb9-5d72b2c1ef1b",
   "metadata": {},
   "outputs": [
    {
     "data": {
      "image/png": "[encoded data removed]",
      "text/plain": [
       "<Figure size 600x200 with 2 Axes>"
      ]
     },
     "metadata": {},
     "output_type": "display_data"
    }
   ],
   "source": [
    "# Apply a Seaborn theme for consistent styling\n",
    "sns.set_theme(style=\"white\")\n",
    "\n",
    "# Create a figure with 1 row and 2 columns of subplots\n",
    "fig, axes = plt.subplots(1, 2, figsize=(6, 2))  # adjust figsize as needed\n",
    "\n",
    "for ax in axes:\n",
    "    ax.axis('off')  # hide the axes for a clean card look\n",
    "    # Add a background rectangle to simulate the card\n",
    "    card_bg = plt.Rectangle((0, 0), 1, 1, transform=ax.transAxes, color=\"#f0f0f0\")\n",
    "    ax.add_patch(card_bg)\n",
    "\n",
    "# First card\n",
    "axes[0].text(0.5, 0.6, \"Total Tweets\", fontsize=14, ha=\"center\", va=\"center\", color=\"black\")\n",
    "axes[0].text(0.5, 0.4, f\"{total_tweets:,}\", fontsize=24, ha=\"center\", va=\"center\", color=\"black\")\n",
    "\n",
    "# Second card\n",
    "axes[1].text(0.5, 0.6, \"Twitter Users\", fontsize=14, ha=\"center\", va=\"center\", color=\"black\")\n",
    "axes[1].text(0.5, 0.4, f\"{user_count:,}\", fontsize=24, ha=\"center\", va=\"center\", color=\"black\")\n",
    "\n",
    "# Save the figure as an image file (download it)\n",
    "#plt.savefig(\"tweet_card_visual.png\", dpi=300)\n",
    "\n",
    "plt.tight_layout()\n",
    "plt.show()"
   ]
  },
  {
   "cell_type": "code",
   "execution_count": 63,
   "id": "468cf195-1a48-4bf6-8418-9247dc902ce5",
   "metadata": {},
   "outputs": [
    {
     "data": {
      "image/png": "[encoded data removed]",
      "text/plain": [
       "<Figure size 700x500 with 1 Axes>"
      ]
     },
     "metadata": {},
     "output_type": "display_data"
    }
   ],
   "source": [
    "# Plotting a pie chart to show distribution of Sentiments\n",
    "plt.figure(figsize=[7,5], facecolor='none')\n",
    "plt.pie(tweets_df['sentiment'].value_counts(), labels=['Neutral', \"Negative\",'Positive'], colors=['orange', '#666666', '#1dc5af'], startangle=90, explode= [0,0,0.09], autopct='%1.1f%%');\n",
    "plt.title('Virtual Dollar Cards Twitter Users Sentiments');"
   ]
  },
  {
   "cell_type": "code",
   "execution_count": 66,
   "id": "d4dc2cc3-6162-47a2-b30d-4812ea6bd87d",
   "metadata": {},
   "outputs": [
    {
     "data": {
      "image/png": "[encoded data removed]",
      "text/plain": [
       "<Figure size 1200x600 with 1 Axes>"
      ]
     },
     "metadata": {},
     "output_type": "display_data"
    }
   ],
   "source": [
    "# Set up the seaborn style and figure size\n",
    "sns.set(style=\"whitegrid\")\n",
    "plt.figure(figsize=(12,6))\n",
    "\n",
    "# Define your custom palette mapping\n",
    "palette = {'positive': '#1dc5af', 'negative': '#666666', 'neutral': 'orange'}\n",
    "\n",
    "sns.countplot(data=tweets_df, x='card_brand', hue='sentiment', palette=palette)\n",
    "plt.title('Sentiment Analysis of Virtual Dollar Cards in Nigeria'.upper())\n",
    "\n",
    "plt.xlabel('Virtual Dollar Cards')\n",
    "plt.ylabel('Tweet Count')\n",
    "\n",
    "plt.xticks(rotation=90)  # Rotate x labels for readability\n",
    "plt.tight_layout()   \n",
    "\n",
    "plt.show()"
   ]
  },
  {
   "cell_type": "code",
   "execution_count": null,
   "id": "5ac14476-3e9d-4a91-94fc-123318a13fef",
   "metadata": {},
   "outputs": [],
   "source": []
  }
 ],
 "metadata": {
  "kernelspec": {
   "display_name": "Python 3 (ipykernel)",
   "language": "python",
   "name": "python3"
  },
  "language_info": {
   "codemirror_mode": {
    "name": "ipython",
    "version": 3
   },
   "file_extension": ".py",
   "mimetype": "text/x-python",
   "name": "python",
   "nbconvert_exporter": "python",
   "pygments_lexer": "ipython3",
   "version": "3.12.7"
  }
 },
 "nbformat": 4,
 "nbformat_minor": 5
}
